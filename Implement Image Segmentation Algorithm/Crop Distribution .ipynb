{
 "cells": [
  {
   "cell_type": "code",
   "execution_count": 6,
   "id": "d6271ed4",
   "metadata": {},
   "outputs": [
    {
     "name": "stdout",
     "output_type": "stream",
     "text": [
      "Requirement already satisfied: rasterio in c:\\users\\91984\\anaconda3\\lib\\site-packages (1.3.9)\n",
      "Requirement already satisfied: scikit-image in c:\\users\\91984\\anaconda3\\lib\\site-packages (0.20.0)\n",
      "Requirement already satisfied: affine in c:\\users\\91984\\anaconda3\\lib\\site-packages (from rasterio) (2.4.0)\n",
      "Requirement already satisfied: attrs in c:\\users\\91984\\anaconda3\\lib\\site-packages (from rasterio) (22.1.0)\n",
      "Requirement already satisfied: certifi in c:\\users\\91984\\anaconda3\\lib\\site-packages (from rasterio) (2023.7.22)\n",
      "Requirement already satisfied: click>=4.0 in c:\\users\\91984\\anaconda3\\lib\\site-packages (from rasterio) (8.0.4)\n",
      "Requirement already satisfied: cligj>=0.5 in c:\\users\\91984\\anaconda3\\lib\\site-packages (from rasterio) (0.7.2)\n",
      "Requirement already satisfied: numpy in c:\\users\\91984\\anaconda3\\lib\\site-packages (from rasterio) (1.24.3)\n",
      "Requirement already satisfied: snuggs>=1.4.1 in c:\\users\\91984\\anaconda3\\lib\\site-packages (from rasterio) (1.4.7)\n",
      "Requirement already satisfied: click-plugins in c:\\users\\91984\\anaconda3\\lib\\site-packages (from rasterio) (1.1.1)\n",
      "Requirement already satisfied: setuptools in c:\\users\\91984\\anaconda3\\lib\\site-packages (from rasterio) (68.0.0)\n",
      "Requirement already satisfied: scipy>=1.8 in c:\\users\\91984\\anaconda3\\lib\\site-packages (from scikit-image) (1.10.1)\n",
      "Requirement already satisfied: networkx>=2.8 in c:\\users\\91984\\anaconda3\\lib\\site-packages (from scikit-image) (3.1)\n",
      "Requirement already satisfied: pillow>=9.0.1 in c:\\users\\91984\\anaconda3\\lib\\site-packages (from scikit-image) (9.4.0)\n",
      "Requirement already satisfied: imageio>=2.4.1 in c:\\users\\91984\\anaconda3\\lib\\site-packages (from scikit-image) (2.26.0)\n",
      "Requirement already satisfied: tifffile>=2019.7.26 in c:\\users\\91984\\anaconda3\\lib\\site-packages (from scikit-image) (2021.7.2)\n",
      "Requirement already satisfied: PyWavelets>=1.1.1 in c:\\users\\91984\\anaconda3\\lib\\site-packages (from scikit-image) (1.4.1)\n",
      "Requirement already satisfied: packaging>=20.0 in c:\\users\\91984\\anaconda3\\lib\\site-packages (from scikit-image) (23.0)\n",
      "Requirement already satisfied: lazy_loader>=0.1 in c:\\users\\91984\\anaconda3\\lib\\site-packages (from scikit-image) (0.2)\n",
      "Requirement already satisfied: colorama in c:\\users\\91984\\anaconda3\\lib\\site-packages (from click>=4.0->rasterio) (0.4.6)\n",
      "Requirement already satisfied: pyparsing>=2.1.6 in c:\\users\\91984\\anaconda3\\lib\\site-packages (from snuggs>=1.4.1->rasterio) (3.0.9)\n"
     ]
    }
   ],
   "source": [
    "!pip install rasterio scikit-image "
   ]
  },
  {
   "cell_type": "code",
   "execution_count": 7,
   "id": "b1c85c18",
   "metadata": {},
   "outputs": [
    {
     "ename": "ValueError",
     "evalue": "channel_axis=-1 indicates multichannel, which is not supported for a two-dimensional image; use channel_axis=None if the image is grayscale",
     "output_type": "error",
     "traceback": [
      "\u001b[1;31m---------------------------------------------------------------------------\u001b[0m",
      "\u001b[1;31mValueError\u001b[0m                                Traceback (most recent call last)",
      "Cell \u001b[1;32mIn[7], line 42\u001b[0m\n\u001b[0;32m     40\u001b[0m \u001b[38;5;66;03m# Call the function with the image path\u001b[39;00m\n\u001b[0;32m     41\u001b[0m image_path \u001b[38;5;241m=\u001b[39m \u001b[38;5;124m\"\u001b[39m\u001b[38;5;124mC:\u001b[39m\u001b[38;5;130;01m\\\\\u001b[39;00m\u001b[38;5;124mUsers\u001b[39m\u001b[38;5;130;01m\\\\\u001b[39;00m\u001b[38;5;124m91984\u001b[39m\u001b[38;5;130;01m\\\\\u001b[39;00m\u001b[38;5;124mDesktop\u001b[39m\u001b[38;5;130;01m\\\\\u001b[39;00m\u001b[38;5;124mInternships\u001b[39m\u001b[38;5;130;01m\\\\\u001b[39;00m\u001b[38;5;124mHackveda\u001b[39m\u001b[38;5;130;01m\\\\\u001b[39;00m\u001b[38;5;124mImplement Image Segmentation Algorithm\u001b[39m\u001b[38;5;130;01m\\\\\u001b[39;00m\u001b[38;5;124mDelhi.tiff\u001b[39m\u001b[38;5;124m\"\u001b[39m\n\u001b[1;32m---> 42\u001b[0m unique_crop_types, crop_type_areas \u001b[38;5;241m=\u001b[39m crop_distribution_monitoring(image_path)\n\u001b[0;32m     44\u001b[0m \u001b[38;5;66;03m# Create a bar plot to visualize crop distribution\u001b[39;00m\n\u001b[0;32m     45\u001b[0m plt\u001b[38;5;241m.\u001b[39mfigure(figsize\u001b[38;5;241m=\u001b[39m(\u001b[38;5;241m10\u001b[39m, \u001b[38;5;241m6\u001b[39m))\n",
      "Cell \u001b[1;32mIn[7], line 19\u001b[0m, in \u001b[0;36mcrop_distribution_monitoring\u001b[1;34m(image_path)\u001b[0m\n\u001b[0;32m     16\u001b[0m image_reshaped \u001b[38;5;241m=\u001b[39m image\u001b[38;5;241m.\u001b[39mreshape(\u001b[38;5;241m-\u001b[39m\u001b[38;5;241m1\u001b[39m, image\u001b[38;5;241m.\u001b[39mshape[\u001b[38;5;241m-\u001b[39m\u001b[38;5;241m1\u001b[39m])\n\u001b[0;32m     18\u001b[0m \u001b[38;5;66;03m# Perform image segmentation using SLIC\u001b[39;00m\n\u001b[1;32m---> 19\u001b[0m segments \u001b[38;5;241m=\u001b[39m slic(image_reshaped, n_segments\u001b[38;5;241m=\u001b[39m\u001b[38;5;241m10\u001b[39m, compactness\u001b[38;5;241m=\u001b[39m\u001b[38;5;241m10\u001b[39m, sigma\u001b[38;5;241m=\u001b[39m\u001b[38;5;241m1\u001b[39m)\n\u001b[0;32m     21\u001b[0m \u001b[38;5;66;03m# Calculate segment areas\u001b[39;00m\n\u001b[0;32m     22\u001b[0m segment_areas \u001b[38;5;241m=\u001b[39m [np\u001b[38;5;241m.\u001b[39msum(segments \u001b[38;5;241m==\u001b[39m segment_id) \u001b[38;5;28;01mfor\u001b[39;00m segment_id \u001b[38;5;129;01min\u001b[39;00m np\u001b[38;5;241m.\u001b[39munique(segments)]\n",
      "File \u001b[1;32m~\\anaconda3\\Lib\\site-packages\\skimage\\_shared\\utils.py:326\u001b[0m, in \u001b[0;36mchannel_as_last_axis.__call__.<locals>.fixed_func\u001b[1;34m(*args, **kwargs)\u001b[0m\n\u001b[0;32m    323\u001b[0m channel_axis \u001b[38;5;241m=\u001b[39m kwargs\u001b[38;5;241m.\u001b[39mget(\u001b[38;5;124m'\u001b[39m\u001b[38;5;124mchannel_axis\u001b[39m\u001b[38;5;124m'\u001b[39m, \u001b[38;5;28;01mNone\u001b[39;00m)\n\u001b[0;32m    325\u001b[0m \u001b[38;5;28;01mif\u001b[39;00m channel_axis \u001b[38;5;129;01mis\u001b[39;00m \u001b[38;5;28;01mNone\u001b[39;00m:\n\u001b[1;32m--> 326\u001b[0m     \u001b[38;5;28;01mreturn\u001b[39;00m func(\u001b[38;5;241m*\u001b[39margs, \u001b[38;5;241m*\u001b[39m\u001b[38;5;241m*\u001b[39mkwargs)\n\u001b[0;32m    328\u001b[0m \u001b[38;5;66;03m# TODO: convert scalars to a tuple in anticipation of eventually\u001b[39;00m\n\u001b[0;32m    329\u001b[0m \u001b[38;5;66;03m#       supporting a tuple of channel axes. Right now, only an\u001b[39;00m\n\u001b[0;32m    330\u001b[0m \u001b[38;5;66;03m#       integer or a single-element tuple is supported, though.\u001b[39;00m\n\u001b[0;32m    331\u001b[0m \u001b[38;5;28;01mif\u001b[39;00m np\u001b[38;5;241m.\u001b[39misscalar(channel_axis):\n",
      "File \u001b[1;32m~\\anaconda3\\Lib\\site-packages\\skimage\\segmentation\\slic_superpixels.py:251\u001b[0m, in \u001b[0;36mslic\u001b[1;34m(image, n_segments, compactness, max_num_iter, sigma, spacing, convert2lab, enforce_connectivity, min_size_factor, max_size_factor, slic_zero, start_label, mask, channel_axis)\u001b[0m\n\u001b[0;32m    117\u001b[0m \u001b[38;5;250m\u001b[39m\u001b[38;5;124;03m\"\"\"Segments image using k-means clustering in Color-(x,y,z) space.\u001b[39;00m\n\u001b[0;32m    118\u001b[0m \n\u001b[0;32m    119\u001b[0m \u001b[38;5;124;03mParameters\u001b[39;00m\n\u001b[1;32m   (...)\u001b[0m\n\u001b[0;32m    248\u001b[0m \n\u001b[0;32m    249\u001b[0m \u001b[38;5;124;03m\"\"\"\u001b[39;00m\n\u001b[0;32m    250\u001b[0m \u001b[38;5;28;01mif\u001b[39;00m image\u001b[38;5;241m.\u001b[39mndim \u001b[38;5;241m==\u001b[39m \u001b[38;5;241m2\u001b[39m \u001b[38;5;129;01mand\u001b[39;00m channel_axis \u001b[38;5;129;01mis\u001b[39;00m \u001b[38;5;129;01mnot\u001b[39;00m \u001b[38;5;28;01mNone\u001b[39;00m:\n\u001b[1;32m--> 251\u001b[0m     \u001b[38;5;28;01mraise\u001b[39;00m \u001b[38;5;167;01mValueError\u001b[39;00m(\n\u001b[0;32m    252\u001b[0m         \u001b[38;5;124mf\u001b[39m\u001b[38;5;124m\"\u001b[39m\u001b[38;5;124mchannel_axis=\u001b[39m\u001b[38;5;132;01m{\u001b[39;00mchannel_axis\u001b[38;5;132;01m}\u001b[39;00m\u001b[38;5;124m indicates multichannel, which is not \u001b[39m\u001b[38;5;124m\"\u001b[39m\n\u001b[0;32m    253\u001b[0m         \u001b[38;5;124m\"\u001b[39m\u001b[38;5;124msupported for a two-dimensional image; use channel_axis=None if \u001b[39m\u001b[38;5;124m\"\u001b[39m\n\u001b[0;32m    254\u001b[0m         \u001b[38;5;124m\"\u001b[39m\u001b[38;5;124mthe image is grayscale\u001b[39m\u001b[38;5;124m\"\u001b[39m\n\u001b[0;32m    255\u001b[0m     )\n\u001b[0;32m    257\u001b[0m image \u001b[38;5;241m=\u001b[39m img_as_float(image)\n\u001b[0;32m    258\u001b[0m float_dtype \u001b[38;5;241m=\u001b[39m utils\u001b[38;5;241m.\u001b[39m_supported_float_type(image\u001b[38;5;241m.\u001b[39mdtype)\n",
      "\u001b[1;31mValueError\u001b[0m: channel_axis=-1 indicates multichannel, which is not supported for a two-dimensional image; use channel_axis=None if the image is grayscale"
     ]
    }
   ],
   "source": [
    "import rasterio\n",
    "from rasterio.plot import show\n",
    "from rasterio.features import shapes\n",
    "import numpy as np\n",
    "from skimage.segmentation import slic\n",
    "\n",
    "def crop_distribution_monitoring(image_path):\n",
    "    # Read the GeoTIFF image\n",
    "    with rasterio.open(image_path) as src:\n",
    "        # Read the image as a 3D array (height, width, bands)\n",
    "        image = src.read()\n",
    "\n",
    "    # Convert the image from 3D to 2D array (height, width, bands) -> (bands, height*width)\n",
    "    image_reshaped = image.reshape(image.shape[0], -1)\n",
    "\n",
    "    # Perform image segmentation using SLIC (Simple Linear Iterative Clustering)\n",
    "    # Adjust the n_segments parameter based on the expected number of crops in the image\n",
    "    segments = slic(image_reshaped, n_segments=100, compactness=10, sigma=1)\n",
    "\n",
    "    # Calculate the area of each segment (crop region) in pixels\n",
    "    segment_areas = [np.sum(segments == segment_id) for segment_id in np.unique(segments)]\n",
    "\n",
    "    # Get unique crop types present in the image\n",
    "    unique_crop_types = np.unique(segments)\n",
    "\n",
    "    # Calculate the area of each crop type in hectares (assuming pixel size in meters)\n",
    "    pixel_size_meters = src.res[0]  # Assuming square pixels (x and y resolution are the same)\n",
    "    pixel_size_hectares = pixel_size_meters * 0.0001  # Convert pixel size to hectares\n",
    "    crop_type_areas = [area * pixel_size_hectares for area in segment_areas]\n",
    "\n",
    "    # Display the segmented image (optional)\n",
    "    show(segments, cmap='tab20', title='Crop Distribution')\n",
    "\n",
    "    # Print crop type and its corresponding area in hectares\n",
    "    for i, crop_type in enumerate(unique_crop_types):\n",
    "        print(f\"Crop Type {crop_type}: Area = {crop_type_areas[i]:.2f} hectares\")\n",
    "\n",
    "if __name__ == \"__main__\":\n",
    "    # Generate Sattellite Images from Here\n",
    "    # https://eos.com/blog/free-satellite-imagery-sources/\n",
    "    image_path = \n",
    "    crop_distribution_monitoring(image_path)\n"
   ]
  },
  {
   "cell_type": "code",
   "execution_count": null,
   "id": "03091559",
   "metadata": {},
   "outputs": [],
   "source": []
  }
 ],
 "metadata": {
  "kernelspec": {
   "display_name": "Python 3 (ipykernel)",
   "language": "python",
   "name": "python3"
  },
  "language_info": {
   "codemirror_mode": {
    "name": "ipython",
    "version": 3
   },
   "file_extension": ".py",
   "mimetype": "text/x-python",
   "name": "python",
   "nbconvert_exporter": "python",
   "pygments_lexer": "ipython3",
   "version": "3.11.4"
  }
 },
 "nbformat": 4,
 "nbformat_minor": 5
}
