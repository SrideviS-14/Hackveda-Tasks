{
 "cells": [
  {
   "cell_type": "code",
   "execution_count": 2,
   "id": "1f1fdc1b",
   "metadata": {},
   "outputs": [],
   "source": [
    "import numpy as np         \n",
    "import pandas as pd          \n",
    "# Set random seed for reproducibility         \n",
    "np.random.seed(42)          \n",
    "# Generate synthetic postural data         \n",
    "num_samples = 1000         \n",
    "features = np.random.rand(num_samples, 7)  \n",
    "# 7 features for seven fiber Bragg grating sensors         \n",
    "labels = np.random.choice(['Upright', 'Kyphotic', 'Lordotic'], size=num_samples)          \n",
    "# Create a synthetic dataset         \n",
    "synthetic_data = pd.DataFrame(data=features, columns=[f'Sensor_{i}' for i in range(1, 8)])         \n",
    "synthetic_data['Posture_Label'] = labels"
   ]
  },
  {
   "cell_type": "code",
   "execution_count": 3,
   "id": "ad1ca7f1",
   "metadata": {},
   "outputs": [
    {
     "data": {
      "text/html": [
       "<div>\n",
       "<style scoped>\n",
       "    .dataframe tbody tr th:only-of-type {\n",
       "        vertical-align: middle;\n",
       "    }\n",
       "\n",
       "    .dataframe tbody tr th {\n",
       "        vertical-align: top;\n",
       "    }\n",
       "\n",
       "    .dataframe thead th {\n",
       "        text-align: right;\n",
       "    }\n",
       "</style>\n",
       "<table border=\"1\" class=\"dataframe\">\n",
       "  <thead>\n",
       "    <tr style=\"text-align: right;\">\n",
       "      <th></th>\n",
       "      <th>Sensor_1</th>\n",
       "      <th>Sensor_2</th>\n",
       "      <th>Sensor_3</th>\n",
       "      <th>Sensor_4</th>\n",
       "      <th>Sensor_5</th>\n",
       "      <th>Sensor_6</th>\n",
       "      <th>Sensor_7</th>\n",
       "      <th>Posture_Label</th>\n",
       "    </tr>\n",
       "  </thead>\n",
       "  <tbody>\n",
       "    <tr>\n",
       "      <th>0</th>\n",
       "      <td>0.374540</td>\n",
       "      <td>0.950714</td>\n",
       "      <td>0.731994</td>\n",
       "      <td>0.598658</td>\n",
       "      <td>0.156019</td>\n",
       "      <td>0.155995</td>\n",
       "      <td>0.058084</td>\n",
       "      <td>Lordotic</td>\n",
       "    </tr>\n",
       "    <tr>\n",
       "      <th>1</th>\n",
       "      <td>0.866176</td>\n",
       "      <td>0.601115</td>\n",
       "      <td>0.708073</td>\n",
       "      <td>0.020584</td>\n",
       "      <td>0.969910</td>\n",
       "      <td>0.832443</td>\n",
       "      <td>0.212339</td>\n",
       "      <td>Upright</td>\n",
       "    </tr>\n",
       "    <tr>\n",
       "      <th>2</th>\n",
       "      <td>0.181825</td>\n",
       "      <td>0.183405</td>\n",
       "      <td>0.304242</td>\n",
       "      <td>0.524756</td>\n",
       "      <td>0.431945</td>\n",
       "      <td>0.291229</td>\n",
       "      <td>0.611853</td>\n",
       "      <td>Lordotic</td>\n",
       "    </tr>\n",
       "    <tr>\n",
       "      <th>3</th>\n",
       "      <td>0.139494</td>\n",
       "      <td>0.292145</td>\n",
       "      <td>0.366362</td>\n",
       "      <td>0.456070</td>\n",
       "      <td>0.785176</td>\n",
       "      <td>0.199674</td>\n",
       "      <td>0.514234</td>\n",
       "      <td>Lordotic</td>\n",
       "    </tr>\n",
       "    <tr>\n",
       "      <th>4</th>\n",
       "      <td>0.592415</td>\n",
       "      <td>0.046450</td>\n",
       "      <td>0.607545</td>\n",
       "      <td>0.170524</td>\n",
       "      <td>0.065052</td>\n",
       "      <td>0.948886</td>\n",
       "      <td>0.965632</td>\n",
       "      <td>Upright</td>\n",
       "    </tr>\n",
       "    <tr>\n",
       "      <th>...</th>\n",
       "      <td>...</td>\n",
       "      <td>...</td>\n",
       "      <td>...</td>\n",
       "      <td>...</td>\n",
       "      <td>...</td>\n",
       "      <td>...</td>\n",
       "      <td>...</td>\n",
       "      <td>...</td>\n",
       "    </tr>\n",
       "    <tr>\n",
       "      <th>995</th>\n",
       "      <td>0.126464</td>\n",
       "      <td>0.842555</td>\n",
       "      <td>0.362182</td>\n",
       "      <td>0.660470</td>\n",
       "      <td>0.470816</td>\n",
       "      <td>0.198930</td>\n",
       "      <td>0.601687</td>\n",
       "      <td>Upright</td>\n",
       "    </tr>\n",
       "    <tr>\n",
       "      <th>996</th>\n",
       "      <td>0.060683</td>\n",
       "      <td>0.413342</td>\n",
       "      <td>0.546615</td>\n",
       "      <td>0.436047</td>\n",
       "      <td>0.748672</td>\n",
       "      <td>0.827925</td>\n",
       "      <td>0.771243</td>\n",
       "      <td>Upright</td>\n",
       "    </tr>\n",
       "    <tr>\n",
       "      <th>997</th>\n",
       "      <td>0.038813</td>\n",
       "      <td>0.194129</td>\n",
       "      <td>0.536608</td>\n",
       "      <td>0.934822</td>\n",
       "      <td>0.834957</td>\n",
       "      <td>0.842535</td>\n",
       "      <td>0.303208</td>\n",
       "      <td>Upright</td>\n",
       "    </tr>\n",
       "    <tr>\n",
       "      <th>998</th>\n",
       "      <td>0.429448</td>\n",
       "      <td>0.470706</td>\n",
       "      <td>0.157372</td>\n",
       "      <td>0.031068</td>\n",
       "      <td>0.946903</td>\n",
       "      <td>0.240713</td>\n",
       "      <td>0.239949</td>\n",
       "      <td>Upright</td>\n",
       "    </tr>\n",
       "    <tr>\n",
       "      <th>999</th>\n",
       "      <td>0.083379</td>\n",
       "      <td>0.928508</td>\n",
       "      <td>0.579737</td>\n",
       "      <td>0.667037</td>\n",
       "      <td>0.911577</td>\n",
       "      <td>0.345620</td>\n",
       "      <td>0.621507</td>\n",
       "      <td>Lordotic</td>\n",
       "    </tr>\n",
       "  </tbody>\n",
       "</table>\n",
       "<p>1000 rows × 8 columns</p>\n",
       "</div>"
      ],
      "text/plain": [
       "     Sensor_1  Sensor_2  Sensor_3  Sensor_4  Sensor_5  Sensor_6  Sensor_7  \\\n",
       "0    0.374540  0.950714  0.731994  0.598658  0.156019  0.155995  0.058084   \n",
       "1    0.866176  0.601115  0.708073  0.020584  0.969910  0.832443  0.212339   \n",
       "2    0.181825  0.183405  0.304242  0.524756  0.431945  0.291229  0.611853   \n",
       "3    0.139494  0.292145  0.366362  0.456070  0.785176  0.199674  0.514234   \n",
       "4    0.592415  0.046450  0.607545  0.170524  0.065052  0.948886  0.965632   \n",
       "..        ...       ...       ...       ...       ...       ...       ...   \n",
       "995  0.126464  0.842555  0.362182  0.660470  0.470816  0.198930  0.601687   \n",
       "996  0.060683  0.413342  0.546615  0.436047  0.748672  0.827925  0.771243   \n",
       "997  0.038813  0.194129  0.536608  0.934822  0.834957  0.842535  0.303208   \n",
       "998  0.429448  0.470706  0.157372  0.031068  0.946903  0.240713  0.239949   \n",
       "999  0.083379  0.928508  0.579737  0.667037  0.911577  0.345620  0.621507   \n",
       "\n",
       "    Posture_Label  \n",
       "0        Lordotic  \n",
       "1         Upright  \n",
       "2        Lordotic  \n",
       "3        Lordotic  \n",
       "4         Upright  \n",
       "..            ...  \n",
       "995       Upright  \n",
       "996       Upright  \n",
       "997       Upright  \n",
       "998       Upright  \n",
       "999      Lordotic  \n",
       "\n",
       "[1000 rows x 8 columns]"
      ]
     },
     "execution_count": 3,
     "metadata": {},
     "output_type": "execute_result"
    }
   ],
   "source": [
    "synthetic_data"
   ]
  },
  {
   "cell_type": "code",
   "execution_count": 4,
   "id": "2cf29467",
   "metadata": {},
   "outputs": [],
   "source": [
    "from sklearn.model_selection import train_test_split         \n",
    "from sklearn.preprocessing import StandardScaler          \n",
    "# Split the synthetic dataset into features and labels         \n",
    "X_synthetic = synthetic_data.drop('Posture_Label', axis=1)         \n",
    "y_synthetic = synthetic_data['Posture_Label']          \n",
    "# Standardize features         \n",
    "scaler = StandardScaler()         \n",
    "X_synthetic = scaler.fit_transform(X_synthetic)          \n",
    "# Split the synthetic data into training and testing sets         \n",
    "X_train_synthetic, X_test_synthetic, y_train_synthetic, y_test_synthetic = train_test_split(X_synthetic, y_synthetic, test_size=0.2, random_state=42)   "
   ]
  },
  {
   "cell_type": "code",
   "execution_count": 5,
   "id": "41fed05e",
   "metadata": {},
   "outputs": [
    {
     "data": {
      "text/html": [
       "<style>#sk-container-id-1 {color: black;}#sk-container-id-1 pre{padding: 0;}#sk-container-id-1 div.sk-toggleable {background-color: white;}#sk-container-id-1 label.sk-toggleable__label {cursor: pointer;display: block;width: 100%;margin-bottom: 0;padding: 0.3em;box-sizing: border-box;text-align: center;}#sk-container-id-1 label.sk-toggleable__label-arrow:before {content: \"▸\";float: left;margin-right: 0.25em;color: #696969;}#sk-container-id-1 label.sk-toggleable__label-arrow:hover:before {color: black;}#sk-container-id-1 div.sk-estimator:hover label.sk-toggleable__label-arrow:before {color: black;}#sk-container-id-1 div.sk-toggleable__content {max-height: 0;max-width: 0;overflow: hidden;text-align: left;background-color: #f0f8ff;}#sk-container-id-1 div.sk-toggleable__content pre {margin: 0.2em;color: black;border-radius: 0.25em;background-color: #f0f8ff;}#sk-container-id-1 input.sk-toggleable__control:checked~div.sk-toggleable__content {max-height: 200px;max-width: 100%;overflow: auto;}#sk-container-id-1 input.sk-toggleable__control:checked~label.sk-toggleable__label-arrow:before {content: \"▾\";}#sk-container-id-1 div.sk-estimator input.sk-toggleable__control:checked~label.sk-toggleable__label {background-color: #d4ebff;}#sk-container-id-1 div.sk-label input.sk-toggleable__control:checked~label.sk-toggleable__label {background-color: #d4ebff;}#sk-container-id-1 input.sk-hidden--visually {border: 0;clip: rect(1px 1px 1px 1px);clip: rect(1px, 1px, 1px, 1px);height: 1px;margin: -1px;overflow: hidden;padding: 0;position: absolute;width: 1px;}#sk-container-id-1 div.sk-estimator {font-family: monospace;background-color: #f0f8ff;border: 1px dotted black;border-radius: 0.25em;box-sizing: border-box;margin-bottom: 0.5em;}#sk-container-id-1 div.sk-estimator:hover {background-color: #d4ebff;}#sk-container-id-1 div.sk-parallel-item::after {content: \"\";width: 100%;border-bottom: 1px solid gray;flex-grow: 1;}#sk-container-id-1 div.sk-label:hover label.sk-toggleable__label {background-color: #d4ebff;}#sk-container-id-1 div.sk-serial::before {content: \"\";position: absolute;border-left: 1px solid gray;box-sizing: border-box;top: 0;bottom: 0;left: 50%;z-index: 0;}#sk-container-id-1 div.sk-serial {display: flex;flex-direction: column;align-items: center;background-color: white;padding-right: 0.2em;padding-left: 0.2em;position: relative;}#sk-container-id-1 div.sk-item {position: relative;z-index: 1;}#sk-container-id-1 div.sk-parallel {display: flex;align-items: stretch;justify-content: center;background-color: white;position: relative;}#sk-container-id-1 div.sk-item::before, #sk-container-id-1 div.sk-parallel-item::before {content: \"\";position: absolute;border-left: 1px solid gray;box-sizing: border-box;top: 0;bottom: 0;left: 50%;z-index: -1;}#sk-container-id-1 div.sk-parallel-item {display: flex;flex-direction: column;z-index: 1;position: relative;background-color: white;}#sk-container-id-1 div.sk-parallel-item:first-child::after {align-self: flex-end;width: 50%;}#sk-container-id-1 div.sk-parallel-item:last-child::after {align-self: flex-start;width: 50%;}#sk-container-id-1 div.sk-parallel-item:only-child::after {width: 0;}#sk-container-id-1 div.sk-dashed-wrapped {border: 1px dashed gray;margin: 0 0.4em 0.5em 0.4em;box-sizing: border-box;padding-bottom: 0.4em;background-color: white;}#sk-container-id-1 div.sk-label label {font-family: monospace;font-weight: bold;display: inline-block;line-height: 1.2em;}#sk-container-id-1 div.sk-label-container {text-align: center;}#sk-container-id-1 div.sk-container {/* jupyter's `normalize.less` sets `[hidden] { display: none; }` but bootstrap.min.css set `[hidden] { display: none !important; }` so we also need the `!important` here to be able to override the default hidden behavior on the sphinx rendered scikit-learn.org. See: https://github.com/scikit-learn/scikit-learn/issues/21755 */display: inline-block !important;position: relative;}#sk-container-id-1 div.sk-text-repr-fallback {display: none;}</style><div id=\"sk-container-id-1\" class=\"sk-top-container\"><div class=\"sk-text-repr-fallback\"><pre>DecisionTreeClassifier()</pre><b>In a Jupyter environment, please rerun this cell to show the HTML representation or trust the notebook. <br />On GitHub, the HTML representation is unable to render, please try loading this page with nbviewer.org.</b></div><div class=\"sk-container\" hidden><div class=\"sk-item\"><div class=\"sk-estimator sk-toggleable\"><input class=\"sk-toggleable__control sk-hidden--visually\" id=\"sk-estimator-id-1\" type=\"checkbox\" checked><label for=\"sk-estimator-id-1\" class=\"sk-toggleable__label sk-toggleable__label-arrow\">DecisionTreeClassifier</label><div class=\"sk-toggleable__content\"><pre>DecisionTreeClassifier()</pre></div></div></div></div></div>"
      ],
      "text/plain": [
       "DecisionTreeClassifier()"
      ]
     },
     "execution_count": 5,
     "metadata": {},
     "output_type": "execute_result"
    }
   ],
   "source": [
    "from sklearn.tree import DecisionTreeClassifier          \n",
    "# Create the classifier         \n",
    "classifier_synthetic = DecisionTreeClassifier()          \n",
    "# Train the model with synthetic data         \n",
    "classifier_synthetic.fit(X_train_synthetic, y_train_synthetic)     "
   ]
  },
  {
   "cell_type": "code",
   "execution_count": 6,
   "id": "49ac76f8",
   "metadata": {},
   "outputs": [
    {
     "name": "stdout",
     "output_type": "stream",
     "text": [
      "Synthetic Data Accuracy: 0.335\n",
      "              precision    recall  f1-score   support\n",
      "\n",
      "    Kyphotic       0.36      0.32      0.34        65\n",
      "    Lordotic       0.30      0.33      0.31        58\n",
      "     Upright       0.34      0.35      0.35        77\n",
      "\n",
      "    accuracy                           0.34       200\n",
      "   macro avg       0.34      0.33      0.33       200\n",
      "weighted avg       0.34      0.34      0.34       200\n",
      "\n"
     ]
    }
   ],
   "source": [
    "from sklearn.metrics import accuracy_score, classification_report          \n",
    "# Make predictions on the synthetic test set         \n",
    "y_pred_synthetic = classifier_synthetic.predict(X_test_synthetic)          \n",
    "# Evaluate accuracy         \n",
    "accuracy_synthetic = accuracy_score(y_test_synthetic, y_pred_synthetic)         \n",
    "print(f'Synthetic Data Accuracy: {accuracy_synthetic}')          \n",
    "# Generate a classification report         \n",
    "report_synthetic = classification_report(y_test_synthetic, y_pred_synthetic)         \n",
    "print(report_synthetic)"
   ]
  },
  {
   "cell_type": "code",
   "execution_count": 7,
   "id": "5477c050",
   "metadata": {},
   "outputs": [],
   "source": [
    " # Assuming you have a function to read real-time synthetic sensor data         \n",
    "def classify_synthetic_posture(sensor_data):             \n",
    "    # Preprocess the synthetic data             \n",
    "    features_synthetic = scaler.transform(sensor_data)              \n",
    "    # Use the trained model to predict the synthetic posture             \n",
    "    synthetic_posture = classifier_synthetic.predict(features_synthetic)              \n",
    "    return synthetic_posture"
   ]
  },
  {
   "cell_type": "code",
   "execution_count": 8,
   "id": "7b10433b",
   "metadata": {},
   "outputs": [
    {
     "name": "stdout",
     "output_type": "stream",
     "text": [
      "Sample Sensor Data:\n",
      "[[0.15642692 0.84993749 0.72618948 0.84182536 0.29901268 0.31659806\n",
      "  0.67122156]]\n",
      "\n",
      "Predicted Posture:\n",
      "['Lordotic']\n"
     ]
    },
    {
     "name": "stderr",
     "output_type": "stream",
     "text": [
      "C:\\Users\\91984\\anaconda3\\Lib\\site-packages\\sklearn\\base.py:464: UserWarning: X does not have valid feature names, but StandardScaler was fitted with feature names\n",
      "  warnings.warn(\n"
     ]
    }
   ],
   "source": [
    "# Sample sensor data for testing the real-time classification\n",
    "sample_sensor_data = np.random.rand(1, 7)  # Assuming 7 features for seven fiber Bragg grating sensors\n",
    "\n",
    "# Classify the posture using the trained model\n",
    "predicted_posture = classify_synthetic_posture(sample_sensor_data)\n",
    "\n",
    "# Display the results\n",
    "print(\"Sample Sensor Data:\")\n",
    "print(sample_sensor_data)\n",
    "print(\"\\nPredicted Posture:\")\n",
    "print(predicted_posture)"
   ]
  },
  {
   "cell_type": "code",
   "execution_count": null,
   "id": "51c3cc08",
   "metadata": {},
   "outputs": [],
   "source": []
  },
  {
   "cell_type": "code",
   "execution_count": null,
   "id": "2dd051e0",
   "metadata": {},
   "outputs": [],
   "source": []
  }
 ],
 "metadata": {
  "kernelspec": {
   "display_name": "Python 3 (ipykernel)",
   "language": "python",
   "name": "python3"
  },
  "language_info": {
   "codemirror_mode": {
    "name": "ipython",
    "version": 3
   },
   "file_extension": ".py",
   "mimetype": "text/x-python",
   "name": "python",
   "nbconvert_exporter": "python",
   "pygments_lexer": "ipython3",
   "version": "3.11.4"
  }
 },
 "nbformat": 4,
 "nbformat_minor": 5
}
